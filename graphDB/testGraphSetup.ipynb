{
 "cells": [
  {
   "cell_type": "code",
   "execution_count": 1,
   "id": "eca399da",
   "metadata": {},
   "outputs": [
    {
     "data": {
      "text/plain": [
       "True"
      ]
     },
     "execution_count": 1,
     "metadata": {},
     "output_type": "execute_result"
    }
   ],
   "source": [
    "from neo4j import GraphDatabase\n",
    "import pandas as pd\n",
    "import os\n",
    "from dotenv import load_dotenv\n",
    "from string import Template\n",
    "import string\n",
    "import re\n",
    "from embedding import SickEmbedder\n",
    "\n",
    "load_dotenv()"
   ]
  },
  {
   "cell_type": "markdown",
   "id": "a6475a92",
   "metadata": {},
   "source": [
    "### Define neo4j database"
   ]
  },
  {
   "cell_type": "code",
   "execution_count": 4,
   "id": "f306badf",
   "metadata": {},
   "outputs": [],
   "source": [
    "URI = \"bolt://localhost:7687\"\n",
    "AUTH = (\"neo4j\", os.getenv(\"DB_PASSWORD\"))\n",
    "\n",
    "def clear_db(tx):\n",
    "    script=\"\"\"\n",
    "    MATCH(n)\n",
    "    DETACH DELETE n\n",
    "     \"\"\"\n",
    "    tx.run(script)"
   ]
  },
  {
   "cell_type": "markdown",
   "id": "5a8a4f7c",
   "metadata": {},
   "source": [
    "Clear existing nodes."
   ]
  },
  {
   "cell_type": "code",
   "execution_count": null,
   "id": "4dcfea44",
   "metadata": {},
   "outputs": [],
   "source": [
    "with GraphDatabase.driver(URI, auth=AUTH) as driver:\n",
    "    driver.verify_connectivity()\n",
    "    with driver.session() as session:\n",
    "        session.execute_write(clear_db)\n",
    "    driver.close()"
   ]
  }
 ],
 "metadata": {
  "kernelspec": {
   "display_name": "Python 3",
   "language": "python",
   "name": "python3"
  },
  "language_info": {
   "codemirror_mode": {
    "name": "ipython",
    "version": 3
   },
   "file_extension": ".py",
   "mimetype": "text/x-python",
   "name": "python",
   "nbconvert_exporter": "python",
   "pygments_lexer": "ipython3",
   "version": "3.12.5"
  }
 },
 "nbformat": 4,
 "nbformat_minor": 5
}
